{
 "cells": [
  {
   "cell_type": "code",
   "execution_count": 33,
   "metadata": {},
   "outputs": [],
   "source": [
    "import pandas as pd\n",
    "import numpy as np\n",
    "import matplotlib.pyplot as plt\n",
    "import seaborn as sns\n",
    "%matplotlib inline\n"
   ]
  },
  {
   "cell_type": "code",
   "execution_count": 34,
   "metadata": {},
   "outputs": [],
   "source": [
    "data=pd.read_excel('C:\\\\Users\\\\DELL\\\\Desktop\\\\ATI\\\\python\\\\proj_data.xlsx')"
   ]
  },
  {
   "cell_type": "code",
   "execution_count": 35,
   "metadata": {},
   "outputs": [
    {
     "data": {
      "text/html": [
       "<div>\n",
       "<style scoped>\n",
       "    .dataframe tbody tr th:only-of-type {\n",
       "        vertical-align: middle;\n",
       "    }\n",
       "\n",
       "    .dataframe tbody tr th {\n",
       "        vertical-align: top;\n",
       "    }\n",
       "\n",
       "    .dataframe thead th {\n",
       "        text-align: right;\n",
       "    }\n",
       "</style>\n",
       "<table border=\"1\" class=\"dataframe\">\n",
       "  <thead>\n",
       "    <tr style=\"text-align: right;\">\n",
       "      <th></th>\n",
       "      <th>Sl no</th>\n",
       "      <th>Gender</th>\n",
       "      <th>Designation</th>\n",
       "      <th>Training</th>\n",
       "      <th>Des_Grp</th>\n",
       "      <th>Age</th>\n",
       "      <th>TD1</th>\n",
       "      <th>TD2</th>\n",
       "      <th>TD3</th>\n",
       "      <th>TD4</th>\n",
       "      <th>...</th>\n",
       "      <th>EM1</th>\n",
       "      <th>EM2</th>\n",
       "      <th>EM3</th>\n",
       "      <th>Employee_Motivation</th>\n",
       "      <th>EP1</th>\n",
       "      <th>EP2</th>\n",
       "      <th>EP3</th>\n",
       "      <th>EP4</th>\n",
       "      <th>EP5</th>\n",
       "      <th>Emploee_Performance</th>\n",
       "    </tr>\n",
       "  </thead>\n",
       "  <tbody>\n",
       "    <tr>\n",
       "      <th>0</th>\n",
       "      <td>1</td>\n",
       "      <td>M</td>\n",
       "      <td>DESIGN ENGINEER</td>\n",
       "      <td>HOP,MVC,TEAM CENTER</td>\n",
       "      <td>ELE</td>\n",
       "      <td>24</td>\n",
       "      <td>4</td>\n",
       "      <td>4</td>\n",
       "      <td>4</td>\n",
       "      <td>5</td>\n",
       "      <td>...</td>\n",
       "      <td>4</td>\n",
       "      <td>5</td>\n",
       "      <td>4</td>\n",
       "      <td>4.333333</td>\n",
       "      <td>4</td>\n",
       "      <td>4</td>\n",
       "      <td>4</td>\n",
       "      <td>3</td>\n",
       "      <td>4</td>\n",
       "      <td>3.8</td>\n",
       "    </tr>\n",
       "    <tr>\n",
       "      <th>1</th>\n",
       "      <td>2</td>\n",
       "      <td>M</td>\n",
       "      <td>ENGINEER</td>\n",
       "      <td>GDT,HOP</td>\n",
       "      <td>ELE</td>\n",
       "      <td>27</td>\n",
       "      <td>4</td>\n",
       "      <td>4</td>\n",
       "      <td>3</td>\n",
       "      <td>4</td>\n",
       "      <td>...</td>\n",
       "      <td>3</td>\n",
       "      <td>4</td>\n",
       "      <td>4</td>\n",
       "      <td>3.666667</td>\n",
       "      <td>4</td>\n",
       "      <td>4</td>\n",
       "      <td>4</td>\n",
       "      <td>4</td>\n",
       "      <td>4</td>\n",
       "      <td>4.0</td>\n",
       "    </tr>\n",
       "    <tr>\n",
       "      <th>2</th>\n",
       "      <td>3</td>\n",
       "      <td>M</td>\n",
       "      <td>LEAD ENGINEER</td>\n",
       "      <td>MVC,HOP</td>\n",
       "      <td>Leads</td>\n",
       "      <td>25</td>\n",
       "      <td>4</td>\n",
       "      <td>4</td>\n",
       "      <td>5</td>\n",
       "      <td>4</td>\n",
       "      <td>...</td>\n",
       "      <td>4</td>\n",
       "      <td>4</td>\n",
       "      <td>4</td>\n",
       "      <td>4.000000</td>\n",
       "      <td>3</td>\n",
       "      <td>4</td>\n",
       "      <td>3</td>\n",
       "      <td>3</td>\n",
       "      <td>2</td>\n",
       "      <td>3.0</td>\n",
       "    </tr>\n",
       "  </tbody>\n",
       "</table>\n",
       "<p>3 rows × 32 columns</p>\n",
       "</div>"
      ],
      "text/plain": [
       "   Sl no    Gender                          Designation  \\\n",
       "0      1  M         DESIGN ENGINEER                       \n",
       "1      2  M         ENGINEER                              \n",
       "2      3  M         LEAD ENGINEER                         \n",
       "\n",
       "                              Training Des_Grp  Age  TD1  TD2  TD3  TD4  \\\n",
       "0  HOP,MVC,TEAM CENTER                     ELE   24    4    4    4    5   \n",
       "1  GDT,HOP                                 ELE   27    4    4    3    4   \n",
       "2  MVC,HOP                               Leads   25    4    4    5    4   \n",
       "\n",
       "          ...           EM1  EM2  EM3  Employee_Motivation  EP1  EP2  EP3  \\\n",
       "0         ...             4    5    4             4.333333    4    4    4   \n",
       "1         ...             3    4    4             3.666667    4    4    4   \n",
       "2         ...             4    4    4             4.000000    3    4    3   \n",
       "\n",
       "   EP4  EP5  Emploee_Performance  \n",
       "0    3    4                  3.8  \n",
       "1    4    4                  4.0  \n",
       "2    3    2                  3.0  \n",
       "\n",
       "[3 rows x 32 columns]"
      ]
     },
     "execution_count": 35,
     "metadata": {},
     "output_type": "execute_result"
    }
   ],
   "source": [
    "data.head(3)"
   ]
  },
  {
   "cell_type": "code",
   "execution_count": 36,
   "metadata": {},
   "outputs": [
    {
     "data": {
      "text/plain": [
       "Index(['Sl no', 'Gender', 'Designation', 'Training', 'Des_Grp', 'Age', 'TD1',\n",
       "       'TD2', 'TD3', 'TD4', 'TD5', 'TD6', 'TD7', 'TD8', 'Training_Delivery',\n",
       "       'TT1', 'TT2', 'TT3', 'TT4', 'TT5', 'TT6', 'Training_Transfer', 'EM1',\n",
       "       'EM2', 'EM3', 'Employee_Motivation', 'EP1', 'EP2', 'EP3', 'EP4', 'EP5',\n",
       "       'Emploee_Performance'],\n",
       "      dtype='object')"
      ]
     },
     "execution_count": 36,
     "metadata": {},
     "output_type": "execute_result"
    }
   ],
   "source": [
    "data.columns"
   ]
  },
  {
   "cell_type": "code",
   "execution_count": 37,
   "metadata": {},
   "outputs": [],
   "source": [
    "data.drop(['Sl no','Designation'],axis=1,inplace=True)"
   ]
  },
  {
   "cell_type": "code",
   "execution_count": 38,
   "metadata": {},
   "outputs": [
    {
     "data": {
      "text/plain": [
       "Index(['Gender', 'Training', 'Des_Grp', 'Age', 'TD1', 'TD2', 'TD3', 'TD4',\n",
       "       'TD5', 'TD6', 'TD7', 'TD8', 'Training_Delivery', 'TT1', 'TT2', 'TT3',\n",
       "       'TT4', 'TT5', 'TT6', 'Training_Transfer', 'EM1', 'EM2', 'EM3',\n",
       "       'Employee_Motivation', 'EP1', 'EP2', 'EP3', 'EP4', 'EP5',\n",
       "       'Emploee_Performance'],\n",
       "      dtype='object')"
      ]
     },
     "execution_count": 38,
     "metadata": {},
     "output_type": "execute_result"
    }
   ],
   "source": [
    "data.columns"
   ]
  },
  {
   "cell_type": "code",
   "execution_count": 39,
   "metadata": {},
   "outputs": [],
   "source": [
    "df=pd.DataFrame(data)"
   ]
  },
  {
   "cell_type": "code",
   "execution_count": 40,
   "metadata": {},
   "outputs": [
    {
     "data": {
      "text/html": [
       "<div>\n",
       "<style scoped>\n",
       "    .dataframe tbody tr th:only-of-type {\n",
       "        vertical-align: middle;\n",
       "    }\n",
       "\n",
       "    .dataframe tbody tr th {\n",
       "        vertical-align: top;\n",
       "    }\n",
       "\n",
       "    .dataframe thead th {\n",
       "        text-align: right;\n",
       "    }\n",
       "</style>\n",
       "<table border=\"1\" class=\"dataframe\">\n",
       "  <thead>\n",
       "    <tr style=\"text-align: right;\">\n",
       "      <th></th>\n",
       "      <th>Gender</th>\n",
       "      <th>Training</th>\n",
       "      <th>Des_Grp</th>\n",
       "      <th>Age</th>\n",
       "      <th>TD1</th>\n",
       "      <th>TD2</th>\n",
       "      <th>TD3</th>\n",
       "      <th>TD4</th>\n",
       "      <th>TD5</th>\n",
       "      <th>TD6</th>\n",
       "      <th>...</th>\n",
       "      <th>EM1</th>\n",
       "      <th>EM2</th>\n",
       "      <th>EM3</th>\n",
       "      <th>Employee_Motivation</th>\n",
       "      <th>EP1</th>\n",
       "      <th>EP2</th>\n",
       "      <th>EP3</th>\n",
       "      <th>EP4</th>\n",
       "      <th>EP5</th>\n",
       "      <th>Emploee_Performance</th>\n",
       "    </tr>\n",
       "  </thead>\n",
       "  <tbody>\n",
       "    <tr>\n",
       "      <th>0</th>\n",
       "      <td>M</td>\n",
       "      <td>HOP,MVC,TEAM CENTER</td>\n",
       "      <td>ELE</td>\n",
       "      <td>24</td>\n",
       "      <td>4</td>\n",
       "      <td>4</td>\n",
       "      <td>4</td>\n",
       "      <td>5</td>\n",
       "      <td>4</td>\n",
       "      <td>3</td>\n",
       "      <td>...</td>\n",
       "      <td>4</td>\n",
       "      <td>5</td>\n",
       "      <td>4</td>\n",
       "      <td>4.333333</td>\n",
       "      <td>4</td>\n",
       "      <td>4</td>\n",
       "      <td>4</td>\n",
       "      <td>3</td>\n",
       "      <td>4</td>\n",
       "      <td>3.8</td>\n",
       "    </tr>\n",
       "    <tr>\n",
       "      <th>1</th>\n",
       "      <td>M</td>\n",
       "      <td>GDT,HOP</td>\n",
       "      <td>ELE</td>\n",
       "      <td>27</td>\n",
       "      <td>4</td>\n",
       "      <td>4</td>\n",
       "      <td>3</td>\n",
       "      <td>4</td>\n",
       "      <td>3</td>\n",
       "      <td>5</td>\n",
       "      <td>...</td>\n",
       "      <td>3</td>\n",
       "      <td>4</td>\n",
       "      <td>4</td>\n",
       "      <td>3.666667</td>\n",
       "      <td>4</td>\n",
       "      <td>4</td>\n",
       "      <td>4</td>\n",
       "      <td>4</td>\n",
       "      <td>4</td>\n",
       "      <td>4.0</td>\n",
       "    </tr>\n",
       "  </tbody>\n",
       "</table>\n",
       "<p>2 rows × 30 columns</p>\n",
       "</div>"
      ],
      "text/plain": [
       "     Gender                             Training Des_Grp  Age  TD1  TD2  TD3  \\\n",
       "0  M         HOP,MVC,TEAM CENTER                     ELE   24    4    4    4   \n",
       "1  M         GDT,HOP                                 ELE   27    4    4    3   \n",
       "\n",
       "   TD4  TD5  TD6         ...           EM1  EM2  EM3  Employee_Motivation  \\\n",
       "0    5    4    3         ...             4    5    4             4.333333   \n",
       "1    4    3    5         ...             3    4    4             3.666667   \n",
       "\n",
       "   EP1  EP2  EP3  EP4  EP5  Emploee_Performance  \n",
       "0    4    4    4    3    4                  3.8  \n",
       "1    4    4    4    4    4                  4.0  \n",
       "\n",
       "[2 rows x 30 columns]"
      ]
     },
     "execution_count": 40,
     "metadata": {},
     "output_type": "execute_result"
    }
   ],
   "source": [
    "df.head(2)"
   ]
  },
  {
   "cell_type": "code",
   "execution_count": 41,
   "metadata": {},
   "outputs": [],
   "source": [
    "#getting dummy values for columnd of data type object\n",
    "Gender_dummies=pd.get_dummies(df[['Gender']])"
   ]
  },
  {
   "cell_type": "code",
   "execution_count": 42,
   "metadata": {},
   "outputs": [],
   "source": [
    "Gen_df=pd.DataFrame(Gender_dummies)"
   ]
  },
  {
   "cell_type": "code",
   "execution_count": 43,
   "metadata": {},
   "outputs": [],
   "source": [
    "#joining the dummy values to th datafame\n",
    "df_new=df.join(Gen_df)"
   ]
  },
  {
   "cell_type": "code",
   "execution_count": 44,
   "metadata": {},
   "outputs": [
    {
     "data": {
      "text/html": [
       "<div>\n",
       "<style scoped>\n",
       "    .dataframe tbody tr th:only-of-type {\n",
       "        vertical-align: middle;\n",
       "    }\n",
       "\n",
       "    .dataframe tbody tr th {\n",
       "        vertical-align: top;\n",
       "    }\n",
       "\n",
       "    .dataframe thead th {\n",
       "        text-align: right;\n",
       "    }\n",
       "</style>\n",
       "<table border=\"1\" class=\"dataframe\">\n",
       "  <thead>\n",
       "    <tr style=\"text-align: right;\">\n",
       "      <th></th>\n",
       "      <th>Gender</th>\n",
       "      <th>Training</th>\n",
       "      <th>Des_Grp</th>\n",
       "      <th>Age</th>\n",
       "      <th>TD1</th>\n",
       "      <th>TD2</th>\n",
       "      <th>TD3</th>\n",
       "      <th>TD4</th>\n",
       "      <th>TD5</th>\n",
       "      <th>TD6</th>\n",
       "      <th>...</th>\n",
       "      <th>EM3</th>\n",
       "      <th>Employee_Motivation</th>\n",
       "      <th>EP1</th>\n",
       "      <th>EP2</th>\n",
       "      <th>EP3</th>\n",
       "      <th>EP4</th>\n",
       "      <th>EP5</th>\n",
       "      <th>Emploee_Performance</th>\n",
       "      <th>Gender_F</th>\n",
       "      <th>Gender_M</th>\n",
       "    </tr>\n",
       "  </thead>\n",
       "  <tbody>\n",
       "    <tr>\n",
       "      <th>0</th>\n",
       "      <td>M</td>\n",
       "      <td>HOP,MVC,TEAM CENTER</td>\n",
       "      <td>ELE</td>\n",
       "      <td>24</td>\n",
       "      <td>4</td>\n",
       "      <td>4</td>\n",
       "      <td>4</td>\n",
       "      <td>5</td>\n",
       "      <td>4</td>\n",
       "      <td>3</td>\n",
       "      <td>...</td>\n",
       "      <td>4</td>\n",
       "      <td>4.333333</td>\n",
       "      <td>4</td>\n",
       "      <td>4</td>\n",
       "      <td>4</td>\n",
       "      <td>3</td>\n",
       "      <td>4</td>\n",
       "      <td>3.8</td>\n",
       "      <td>0</td>\n",
       "      <td>1</td>\n",
       "    </tr>\n",
       "    <tr>\n",
       "      <th>1</th>\n",
       "      <td>M</td>\n",
       "      <td>GDT,HOP</td>\n",
       "      <td>ELE</td>\n",
       "      <td>27</td>\n",
       "      <td>4</td>\n",
       "      <td>4</td>\n",
       "      <td>3</td>\n",
       "      <td>4</td>\n",
       "      <td>3</td>\n",
       "      <td>5</td>\n",
       "      <td>...</td>\n",
       "      <td>4</td>\n",
       "      <td>3.666667</td>\n",
       "      <td>4</td>\n",
       "      <td>4</td>\n",
       "      <td>4</td>\n",
       "      <td>4</td>\n",
       "      <td>4</td>\n",
       "      <td>4.0</td>\n",
       "      <td>0</td>\n",
       "      <td>1</td>\n",
       "    </tr>\n",
       "    <tr>\n",
       "      <th>2</th>\n",
       "      <td>M</td>\n",
       "      <td>MVC,HOP</td>\n",
       "      <td>Leads</td>\n",
       "      <td>25</td>\n",
       "      <td>4</td>\n",
       "      <td>4</td>\n",
       "      <td>5</td>\n",
       "      <td>4</td>\n",
       "      <td>4</td>\n",
       "      <td>5</td>\n",
       "      <td>...</td>\n",
       "      <td>4</td>\n",
       "      <td>4.000000</td>\n",
       "      <td>3</td>\n",
       "      <td>4</td>\n",
       "      <td>3</td>\n",
       "      <td>3</td>\n",
       "      <td>2</td>\n",
       "      <td>3.0</td>\n",
       "      <td>0</td>\n",
       "      <td>1</td>\n",
       "    </tr>\n",
       "  </tbody>\n",
       "</table>\n",
       "<p>3 rows × 32 columns</p>\n",
       "</div>"
      ],
      "text/plain": [
       "     Gender                             Training Des_Grp  Age  TD1  TD2  TD3  \\\n",
       "0  M         HOP,MVC,TEAM CENTER                     ELE   24    4    4    4   \n",
       "1  M         GDT,HOP                                 ELE   27    4    4    3   \n",
       "2  M         MVC,HOP                               Leads   25    4    4    5   \n",
       "\n",
       "   TD4  TD5  TD6       ...         EM3  Employee_Motivation  EP1  EP2  EP3  \\\n",
       "0    5    4    3       ...           4             4.333333    4    4    4   \n",
       "1    4    3    5       ...           4             3.666667    4    4    4   \n",
       "2    4    4    5       ...           4             4.000000    3    4    3   \n",
       "\n",
       "   EP4  EP5  Emploee_Performance  Gender_F         Gender_M         \n",
       "0    3    4                  3.8                0                1  \n",
       "1    4    4                  4.0                0                1  \n",
       "2    3    2                  3.0                0                1  \n",
       "\n",
       "[3 rows x 32 columns]"
      ]
     },
     "execution_count": 44,
     "metadata": {},
     "output_type": "execute_result"
    }
   ],
   "source": [
    "df_new.head(3)"
   ]
  },
  {
   "cell_type": "code",
   "execution_count": 45,
   "metadata": {},
   "outputs": [
    {
     "data": {
      "text/plain": [
       "Index(['Gender', 'Training', 'Des_Grp', 'Age', 'TD1', 'TD2', 'TD3', 'TD4',\n",
       "       'TD5', 'TD6', 'TD7', 'TD8', 'Training_Delivery', 'TT1', 'TT2', 'TT3',\n",
       "       'TT4', 'TT5', 'TT6', 'Training_Transfer', 'EM1', 'EM2', 'EM3',\n",
       "       'Employee_Motivation', 'EP1', 'EP2', 'EP3', 'EP4', 'EP5',\n",
       "       'Emploee_Performance', 'Gender_F       ', 'Gender_M       '],\n",
       "      dtype='object')"
      ]
     },
     "execution_count": 45,
     "metadata": {},
     "output_type": "execute_result"
    }
   ],
   "source": [
    "df_new.columns"
   ]
  },
  {
   "cell_type": "code",
   "execution_count": 46,
   "metadata": {},
   "outputs": [],
   "source": [
    "df_new.drop(['Training','Training_Delivery','Training_Transfer','Emploee_Performance','Employee_Motivation'],axis=1,inplace=True)"
   ]
  },
  {
   "cell_type": "code",
   "execution_count": 47,
   "metadata": {},
   "outputs": [
    {
     "data": {
      "text/plain": [
       "Index(['Gender', 'Des_Grp', 'Age', 'TD1', 'TD2', 'TD3', 'TD4', 'TD5', 'TD6',\n",
       "       'TD7', 'TD8', 'TT1', 'TT2', 'TT3', 'TT4', 'TT5', 'TT6', 'EM1', 'EM2',\n",
       "       'EM3', 'EP1', 'EP2', 'EP3', 'EP4', 'EP5', 'Gender_F       ',\n",
       "       'Gender_M       '],\n",
       "      dtype='object')"
      ]
     },
     "execution_count": 47,
     "metadata": {},
     "output_type": "execute_result"
    }
   ],
   "source": [
    "df_new.columns"
   ]
  },
  {
   "cell_type": "code",
   "execution_count": 48,
   "metadata": {},
   "outputs": [],
   "source": [
    "df_new.drop(['Gender', 'Des_Grp'],axis=1,inplace=True)"
   ]
  },
  {
   "cell_type": "code",
   "execution_count": 49,
   "metadata": {},
   "outputs": [
    {
     "data": {
      "text/plain": [
       "Index(['Age', 'TD1', 'TD2', 'TD3', 'TD4', 'TD5', 'TD6', 'TD7', 'TD8', 'TT1',\n",
       "       'TT2', 'TT3', 'TT4', 'TT5', 'TT6', 'EM1', 'EM2', 'EM3', 'EP1', 'EP2',\n",
       "       'EP3', 'EP4', 'EP5', 'Gender_F       ', 'Gender_M       '],\n",
       "      dtype='object')"
      ]
     },
     "execution_count": 49,
     "metadata": {},
     "output_type": "execute_result"
    }
   ],
   "source": [
    "df_new.columns"
   ]
  },
  {
   "cell_type": "code",
   "execution_count": 68,
   "metadata": {},
   "outputs": [
    {
     "name": "stdout",
     "output_type": "stream",
     "text": [
      "[0.02533624 0.05331952 0.08463078 0.02778031 0.07993776 0.05239563\n",
      " 0.03487059 0.03560231 0.08664568 0.04187092 0.04404787 0.09591094\n",
      " 0.04757399 0.07943863 0.04393757 0.05286418 0.0460992  0.05777095\n",
      " 0.00524387 0.00472307]\n"
     ]
    }
   ],
   "source": [
    "# Feature Importance with Extra Trees Classifier\n",
    "#checking for some important features\n",
    "from sklearn.ensemble import ExtraTreesClassifier\n",
    "# load X and Y\n",
    "\n",
    "X = df_new[['Age', 'TD1', 'TD2', 'TD3', 'TD4', 'TD5', 'TD6', \n",
    "            'TD7', 'TD8', 'TT1','TT2', 'TT3', 'TT4', 'TT5', \n",
    "            'TT6', 'EM1', 'EM2', 'EM3','Gender_F       ',\n",
    "            'Gender_M       ']].values\n",
    "\n",
    "Y = df_new[['EP1', 'EP2',\n",
    "       'EP3', 'EP4', 'EP5']].values\n",
    "\n",
    "# feature extraction usin extra trees classifier\n",
    "model = ExtraTreesClassifier()\n",
    "model.fit(X, Y)\n",
    "imp=model.feature_importances_\n",
    "print(imp)"
   ]
  },
  {
   "cell_type": "code",
   "execution_count": 89,
   "metadata": {},
   "outputs": [],
   "source": [
    " #the top 9 features are\n",
    " #'TT3'\n",
    " #'TD8'\n",
    " #'TD2'\n",
    " #'TD4'\n",
    " #'TT5'\n",
    " #'EM3'\n",
    " #'TD1'\n",
    " #'EM1'\n",
    " #'TD5'\n"
   ]
  },
  {
   "cell_type": "code",
   "execution_count": 97,
   "metadata": {},
   "outputs": [
    {
     "data": {
      "text/plain": [
       "Index(['Gender', 'Training', 'Des_Grp', 'Age', 'TD1', 'TD2', 'TD3', 'TD4',\n",
       "       'TD5', 'TD6', 'TD7', 'TD8', 'Training_Delivery', 'TT1', 'TT2', 'TT3',\n",
       "       'TT4', 'TT5', 'TT6', 'Training_Transfer', 'EM1', 'EM2', 'EM3',\n",
       "       'Employee_Motivation', 'EP1', 'EP2', 'EP3', 'EP4', 'EP5',\n",
       "       'Emploee_Performance'],\n",
       "      dtype='object')"
      ]
     },
     "execution_count": 97,
     "metadata": {},
     "output_type": "execute_result"
    }
   ],
   "source": [
    "data.columns"
   ]
  },
  {
   "cell_type": "code",
   "execution_count": 98,
   "metadata": {},
   "outputs": [],
   "source": [
    "Factors=data[['TT3','TD8','TD2','TD4','TT5','EM3','TD1','EM1','TD5']]"
   ]
  },
  {
   "cell_type": "code",
   "execution_count": 101,
   "metadata": {},
   "outputs": [
    {
     "data": {
      "text/html": [
       "<div>\n",
       "<style scoped>\n",
       "    .dataframe tbody tr th:only-of-type {\n",
       "        vertical-align: middle;\n",
       "    }\n",
       "\n",
       "    .dataframe tbody tr th {\n",
       "        vertical-align: top;\n",
       "    }\n",
       "\n",
       "    .dataframe thead th {\n",
       "        text-align: right;\n",
       "    }\n",
       "</style>\n",
       "<table border=\"1\" class=\"dataframe\">\n",
       "  <thead>\n",
       "    <tr style=\"text-align: right;\">\n",
       "      <th></th>\n",
       "      <th>TT3</th>\n",
       "      <th>TD8</th>\n",
       "      <th>TD2</th>\n",
       "      <th>TD4</th>\n",
       "      <th>TT5</th>\n",
       "      <th>EM3</th>\n",
       "      <th>TD1</th>\n",
       "      <th>EM1</th>\n",
       "      <th>TD5</th>\n",
       "    </tr>\n",
       "  </thead>\n",
       "  <tbody>\n",
       "    <tr>\n",
       "      <th>0</th>\n",
       "      <td>3</td>\n",
       "      <td>4</td>\n",
       "      <td>4</td>\n",
       "      <td>5</td>\n",
       "      <td>4</td>\n",
       "      <td>4</td>\n",
       "      <td>4</td>\n",
       "      <td>4</td>\n",
       "      <td>4</td>\n",
       "    </tr>\n",
       "    <tr>\n",
       "      <th>1</th>\n",
       "      <td>2</td>\n",
       "      <td>2</td>\n",
       "      <td>4</td>\n",
       "      <td>4</td>\n",
       "      <td>4</td>\n",
       "      <td>4</td>\n",
       "      <td>4</td>\n",
       "      <td>3</td>\n",
       "      <td>3</td>\n",
       "    </tr>\n",
       "    <tr>\n",
       "      <th>2</th>\n",
       "      <td>4</td>\n",
       "      <td>5</td>\n",
       "      <td>4</td>\n",
       "      <td>4</td>\n",
       "      <td>3</td>\n",
       "      <td>4</td>\n",
       "      <td>4</td>\n",
       "      <td>4</td>\n",
       "      <td>4</td>\n",
       "    </tr>\n",
       "  </tbody>\n",
       "</table>\n",
       "</div>"
      ],
      "text/plain": [
       "   TT3  TD8  TD2  TD4  TT5  EM3  TD1  EM1  TD5\n",
       "0    3    4    4    5    4    4    4    4    4\n",
       "1    2    2    4    4    4    4    4    3    3\n",
       "2    4    5    4    4    3    4    4    4    4"
      ]
     },
     "execution_count": 101,
     "metadata": {},
     "output_type": "execute_result"
    }
   ],
   "source": [
    "Factors.head(3)"
   ]
  },
  {
   "cell_type": "code",
   "execution_count": 102,
   "metadata": {},
   "outputs": [],
   "source": [
    "Dep_Var=data[['Emploee_Performance']]"
   ]
  },
  {
   "cell_type": "code",
   "execution_count": 107,
   "metadata": {},
   "outputs": [
    {
     "data": {
      "text/plain": [
       "<matplotlib.axes._subplots.AxesSubplot at 0xa1584a8>"
      ]
     },
     "execution_count": 107,
     "metadata": {},
     "output_type": "execute_result"
    },
    {
     "data": {
      "image/png": "[encoded data removed]",
      "text/plain": [
       "<Figure size 432x288 with 2 Axes>"
      ]
     },
     "metadata": {},
     "output_type": "display_data"
    }
   ],
   "source": [
    "corr=Factors.corr()\n",
    "sns.heatmap(corr,annot=True)\n",
    "print(corr)"
   ]
  },
  {
   "cell_type": "code",
   "execution_count": 108,
   "metadata": {},
   "outputs": [],
   "source": [
    "x=Factors\n",
    "y=Dep_Var"
   ]
  },
  {
   "cell_type": "code",
   "execution_count": 111,
   "metadata": {},
   "outputs": [
    {
     "name": "stdout",
     "output_type": "stream",
     "text": [
      "                             OLS Regression Results                            \n",
      "===============================================================================\n",
      "Dep. Variable:     Emploee_Performance   R-squared:                       0.993\n",
      "Model:                             OLS   Adj. R-squared:                  0.992\n",
      "Method:                  Least Squares   F-statistic:                     3953.\n",
      "Date:                 Fri, 19 Jul 2019   Prob (F-statistic):          7.06e-276\n",
      "Time:                         12:50:11   Log-Likelihood:                -98.618\n",
      "No. Observations:                  273   AIC:                             215.2\n",
      "Df Residuals:                      264   BIC:                             247.7\n",
      "Df Model:                            9                                         \n",
      "Covariance Type:             nonrobust                                         \n",
      "==============================================================================\n",
      "                 coef    std err          t      P>|t|      [0.025      0.975]\n",
      "------------------------------------------------------------------------------\n",
      "TT3           -0.1302      0.032     -4.112      0.000      -0.193      -0.068\n",
      "TD8            0.3654      0.047      7.773      0.000       0.273       0.458\n",
      "TD2            0.2067      0.045      4.618      0.000       0.119       0.295\n",
      "TD4           -0.0227      0.026     -0.889      0.375      -0.073       0.028\n",
      "TT5            0.3123      0.047      6.620      0.000       0.219       0.405\n",
      "EM3            0.2499      0.055      4.542      0.000       0.142       0.358\n",
      "TD1            0.3620      0.060      5.992      0.000       0.243       0.481\n",
      "EM1           -0.2718      0.052     -5.180      0.000      -0.375      -0.168\n",
      "TD5           -0.1051      0.037     -2.830      0.005      -0.178      -0.032\n",
      "==============================================================================\n",
      "Omnibus:                      169.389   Durbin-Watson:                   1.870\n",
      "Prob(Omnibus):                  0.000   Jarque-Bera (JB):             1408.013\n",
      "Skew:                          -2.442   Prob(JB):                    1.79e-306\n",
      "Kurtosis:                      12.996   Cond. No.                         41.8\n",
      "==============================================================================\n",
      "\n",
      "Warnings:\n",
      "[1] Standard Errors assume that the covariance matrix of the errors is correctly specified.\n"
     ]
    }
   ],
   "source": [
    "#perform multiple linear regression to check the model explanation of Y \n",
    "import statsmodels.api as sm\n",
    "from sklearn import linear_model\n",
    "model=sm.OLS(y,x)\n",
    "results=model.fit()\n",
    "print(results.summary())\n"
   ]
  },
  {
   "cell_type": "markdown",
   "metadata": {},
   "source": [
    "From the above results we can observe the following\n",
    "1.Model explains 99.2% variation in Y\n",
    "2.The line is a good fit since Adj. R-squared:0.992\n",
    "3.All the factors are significant with p<0.05 except 'TD4'\n"
   ]
  },
  {
   "cell_type": "markdown",
   "metadata": {},
   "source": [
    "Checking for assumptions to perform linear regressin"
   ]
  },
  {
   "cell_type": "markdown",
   "metadata": {},
   "source": [
    "#1 X and Y have linear relation\n"
   ]
  },
  {
   "cell_type": "code",
   "execution_count": 113,
   "metadata": {},
   "outputs": [
    {
     "data": {
      "text/plain": [
       "<seaborn.axisgrid.PairGrid at 0xed4cda0>"
      ]
     },
     "execution_count": 113,
     "metadata": {},
     "output_type": "execute_result"
    },
    {
     "data": {
      "image/png": "[encoded data removed]",
      "text/plain": [
       "<Figure size 1800x1800 with 110 Axes>"
      ]
     },
     "metadata": {},
     "output_type": "display_data"
    }
   ],
   "source": [
    "sns.pairplot(data[['TT3','TD8','TD2','TD4','TT5','EM3','TD1','EM1','TD5','Emploee_Performance']])"
   ]
  },
  {
   "cell_type": "markdown",
   "metadata": {},
   "source": [
    "#2\n",
    "Errors are normally distributed"
   ]
  },
  {
   "cell_type": "code",
   "execution_count": 114,
   "metadata": {},
   "outputs": [
    {
     "data": {
      "image/png": "[encoded data removed]",
      "text/plain": [
       "<Figure size 432x288 with 1 Axes>"
      ]
     },
     "metadata": {},
     "output_type": "display_data"
    }
   ],
   "source": [
    "import statsmodels.api as sm\n",
    "res=results.resid\n",
    "fig = sm.qqplot(res)\n",
    "plt.show()"
   ]
  },
  {
   "cell_type": "markdown",
   "metadata": {},
   "source": [
    "#3\n",
    "No autocorrelation between errors\n",
    "Durbin-Watson:1.870\n",
    "if Durbin Watson value is around 2 we can say that there is no correlation between errors\n",
    "\n",
    "#4\n",
    "Multicollinearity between predictors\n",
    "Cond. No. 41.8\n",
    "Cond no>30 means collinearity is present between predictors\n",
    "\n",
    "Thus we have to check for correltion between factors and eliminate some of them"
   ]
  },
  {
   "cell_type": "code",
   "execution_count": 115,
   "metadata": {},
   "outputs": [
    {
     "name": "stdout",
     "output_type": "stream",
     "text": [
      "          TT3       TD8       TD2       TD4       TT5       EM3       TD1  \\\n",
      "TT3  1.000000  0.547115  0.146814  0.400225  0.533363 -0.113046 -0.059265   \n",
      "TD8  0.547115  1.000000  0.158645  0.243015  0.156133  0.107417  0.101178   \n",
      "TD2  0.146814  0.158645  1.000000  0.337116 -0.138711  0.403563  0.720495   \n",
      "TD4  0.400225  0.243015  0.337116  1.000000  0.439960  0.093492  0.097744   \n",
      "TT5  0.533363  0.156133 -0.138711  0.439960  1.000000  0.000782 -0.250932   \n",
      "EM3 -0.113046  0.107417  0.403563  0.093492  0.000782  1.000000  0.460163   \n",
      "TD1 -0.059265  0.101178  0.720495  0.097744 -0.250932  0.460163  1.000000   \n",
      "EM1  0.060122  0.599180  0.182751 -0.023403 -0.122992  0.429860  0.358499   \n",
      "TD5  0.484240  0.409287 -0.029339  0.490310  0.640774  0.012001 -0.135597   \n",
      "\n",
      "          EM1       TD5  \n",
      "TT3  0.060122  0.484240  \n",
      "TD8  0.599180  0.409287  \n",
      "TD2  0.182751 -0.029339  \n",
      "TD4 -0.023403  0.490310  \n",
      "TT5 -0.122992  0.640774  \n",
      "EM3  0.429860  0.012001  \n",
      "TD1  0.358499 -0.135597  \n",
      "EM1  1.000000  0.019135  \n",
      "TD5  0.019135  1.000000  \n"
     ]
    }
   ],
   "source": [
    "corr_fac=Factors.corr()\n",
    "print(corr_fac)"
   ]
  },
  {
   "attachments": {},
   "cell_type": "markdown",
   "metadata": {},
   "source": [
    "We can observe that ther is a correlation of 0.720495 between TD1 and TD2\n",
    "We can go back to the Factor selection and check which one of these has more importance \n",
    "0.08463078\t- 'TD2'\n",
    "0.05331952\t-'TD1'\n",
    "It is understood that TD2 has more importance accorging to the results of Extratree classifier"
   ]
  },
  {
   "cell_type": "code",
   "execution_count": 116,
   "metadata": {},
   "outputs": [
    {
     "data": {
      "text/plain": [
       "Index(['TT3', 'TD8', 'TD2', 'TD4', 'TT5', 'EM3', 'TD1', 'EM1', 'TD5'], dtype='object')"
      ]
     },
     "execution_count": 116,
     "metadata": {},
     "output_type": "execute_result"
    }
   ],
   "source": [
    "#removing TD1 from factors and perfoming regression\n",
    "Factors.columns\n"
   ]
  },
  {
   "cell_type": "code",
   "execution_count": 127,
   "metadata": {},
   "outputs": [],
   "source": [
    "Factors_New=data[['TT3','TD8','TD4','TT5','EM3','EM1','TD5']]"
   ]
  },
  {
   "cell_type": "code",
   "execution_count": 128,
   "metadata": {},
   "outputs": [],
   "source": [
    "X2=Factors_New\n",
    "Y2=Dep_Var"
   ]
  },
  {
   "cell_type": "code",
   "execution_count": 129,
   "metadata": {},
   "outputs": [
    {
     "name": "stdout",
     "output_type": "stream",
     "text": [
      "                             OLS Regression Results                            \n",
      "===============================================================================\n",
      "Dep. Variable:     Emploee_Performance   R-squared:                       0.988\n",
      "Model:                             OLS   Adj. R-squared:                  0.988\n",
      "Method:                  Least Squares   F-statistic:                     3100.\n",
      "Date:                 Fri, 19 Jul 2019   Prob (F-statistic):          7.15e-251\n",
      "Time:                         13:31:19   Log-Likelihood:                -166.49\n",
      "No. Observations:                  273   AIC:                             347.0\n",
      "Df Residuals:                      266   BIC:                             372.2\n",
      "Df Model:                            7                                         \n",
      "Covariance Type:             nonrobust                                         \n",
      "==============================================================================\n",
      "                 coef    std err          t      P>|t|      [0.025      0.975]\n",
      "------------------------------------------------------------------------------\n",
      "TT3           -0.0463      0.039     -1.189      0.235      -0.123       0.030\n",
      "TD8            0.3346      0.060      5.600      0.000       0.217       0.452\n",
      "TD4            0.0754      0.030      2.533      0.012       0.017       0.134\n",
      "TT5            0.2010      0.057      3.501      0.001       0.088       0.314\n",
      "EM3            0.6914      0.055     12.489      0.000       0.582       0.800\n",
      "EM1           -0.1606      0.063     -2.539      0.012      -0.285      -0.036\n",
      "TD5           -0.1499      0.047     -3.179      0.002      -0.243      -0.057\n",
      "==============================================================================\n",
      "Omnibus:                       95.925   Durbin-Watson:                   1.964\n",
      "Prob(Omnibus):                  0.000   Jarque-Bera (JB):              382.705\n",
      "Skew:                          -1.432   Prob(JB):                     7.88e-84\n",
      "Kurtosis:                       8.044   Cond. No.                         33.1\n",
      "==============================================================================\n",
      "\n",
      "Warnings:\n",
      "[1] Standard Errors assume that the covariance matrix of the errors is correctly specified.\n"
     ]
    }
   ],
   "source": [
    "import statsmodels.api as sm\n",
    "from sklearn import linear_model\n",
    "model=sm.OLS(Y2,X2)\n",
    "results_new=model.fit()\n",
    "print(results_new.summary())\n"
   ]
  },
  {
   "cell_type": "code",
   "execution_count": 130,
   "metadata": {},
   "outputs": [
    {
     "name": "stdout",
     "output_type": "stream",
     "text": [
      "          TT3       TD8       TD4       TT5       EM3       EM1       TD5\n",
      "TT3  1.000000  0.547115  0.400225  0.533363 -0.113046  0.060122  0.484240\n",
      "TD8  0.547115  1.000000  0.243015  0.156133  0.107417  0.599180  0.409287\n",
      "TD4  0.400225  0.243015  1.000000  0.439960  0.093492 -0.023403  0.490310\n",
      "TT5  0.533363  0.156133  0.439960  1.000000  0.000782 -0.122992  0.640774\n",
      "EM3 -0.113046  0.107417  0.093492  0.000782  1.000000  0.429860  0.012001\n",
      "EM1  0.060122  0.599180 -0.023403 -0.122992  0.429860  1.000000  0.019135\n",
      "TD5  0.484240  0.409287  0.490310  0.640774  0.012001  0.019135  1.000000\n"
     ]
    }
   ],
   "source": [
    "corr_fac_new=Factors_New.corr()\n",
    "print(corr_fac_new)"
   ]
  },
  {
   "cell_type": "code",
   "execution_count": 131,
   "metadata": {},
   "outputs": [],
   "source": [
    "Factors_New1=data[['TT3','TD8','TD4','TT5','EM3','EM1']]"
   ]
  },
  {
   "cell_type": "code",
   "execution_count": 136,
   "metadata": {},
   "outputs": [],
   "source": [
    "X3=Factors_New1\n",
    "Y2=Dep_Var"
   ]
  },
  {
   "cell_type": "code",
   "execution_count": 137,
   "metadata": {},
   "outputs": [
    {
     "name": "stdout",
     "output_type": "stream",
     "text": [
      "                             OLS Regression Results                            \n",
      "===============================================================================\n",
      "Dep. Variable:     Emploee_Performance   R-squared:                       0.987\n",
      "Model:                             OLS   Adj. R-squared:                  0.987\n",
      "Method:                  Least Squares   F-statistic:                     3495.\n",
      "Date:                 Fri, 19 Jul 2019   Prob (F-statistic):          1.65e-250\n",
      "Time:                         13:36:29   Log-Likelihood:                -171.58\n",
      "No. Observations:                  273   AIC:                             355.2\n",
      "Df Residuals:                      267   BIC:                             376.8\n",
      "Df Model:                            6                                         \n",
      "Covariance Type:             nonrobust                                         \n",
      "==============================================================================\n",
      "                 coef    std err          t      P>|t|      [0.025      0.975]\n",
      "------------------------------------------------------------------------------\n",
      "TT3           -0.0346      0.039     -0.879      0.380      -0.112       0.043\n",
      "TD8            0.2655      0.057      4.691      0.000       0.154       0.377\n",
      "TD4            0.0529      0.029      1.799      0.073      -0.005       0.111\n",
      "TT5            0.1025      0.049      2.085      0.038       0.006       0.199\n",
      "EM3            0.6979      0.056     12.405      0.000       0.587       0.809\n",
      "EM1           -0.1230      0.063     -1.947      0.053      -0.247       0.001\n",
      "==============================================================================\n",
      "Omnibus:                       57.930   Durbin-Watson:                   2.059\n",
      "Prob(Omnibus):                  0.000   Jarque-Bera (JB):              126.500\n",
      "Skew:                          -1.038   Prob(JB):                     3.40e-28\n",
      "Kurtosis:                       5.610   Cond. No.                         29.9\n",
      "==============================================================================\n",
      "\n",
      "Warnings:\n",
      "[1] Standard Errors assume that the covariance matrix of the errors is correctly specified.\n"
     ]
    }
   ],
   "source": [
    "import statsmodels.api as sm\n",
    "from sklearn import linear_model\n",
    "model=sm.OLS(Y2,X3)\n",
    "results_new2=model.fit()\n",
    "print(results_new2.summary())"
   ]
  },
  {
   "cell_type": "code",
   "execution_count": 138,
   "metadata": {},
   "outputs": [],
   "source": [
    "Factors_New3=data[['TT3','TD8','TD4','EM3','EM1','TD5']]"
   ]
  },
  {
   "cell_type": "code",
   "execution_count": 139,
   "metadata": {},
   "outputs": [],
   "source": [
    "X4=Factors_New3\n",
    "Y2=Dep_Var"
   ]
  },
  {
   "cell_type": "code",
   "execution_count": 140,
   "metadata": {},
   "outputs": [
    {
     "name": "stdout",
     "output_type": "stream",
     "text": [
      "                             OLS Regression Results                            \n",
      "===============================================================================\n",
      "Dep. Variable:     Emploee_Performance   R-squared:                       0.987\n",
      "Model:                             OLS   Adj. R-squared:                  0.987\n",
      "Method:                  Least Squares   F-statistic:                     3468.\n",
      "Date:                 Fri, 19 Jul 2019   Prob (F-statistic):          4.65e-250\n",
      "Time:                         13:37:07   Log-Likelihood:                -172.64\n",
      "No. Observations:                  273   AIC:                             357.3\n",
      "Df Residuals:                      267   BIC:                             378.9\n",
      "Df Model:                            6                                         \n",
      "Covariance Type:             nonrobust                                         \n",
      "==============================================================================\n",
      "                 coef    std err          t      P>|t|      [0.025      0.975]\n",
      "------------------------------------------------------------------------------\n",
      "TT3            0.0170      0.035      0.483      0.629      -0.052       0.086\n",
      "TD8            0.2773      0.059      4.726      0.000       0.162       0.393\n",
      "TD4            0.0867      0.030      2.871      0.004       0.027       0.146\n",
      "EM3            0.7725      0.051     15.048      0.000       0.671       0.874\n",
      "EM1           -0.1374      0.064     -2.140      0.033      -0.264      -0.011\n",
      "TD5           -0.0608      0.041     -1.500      0.135      -0.141       0.019\n",
      "==============================================================================\n",
      "Omnibus:                       58.826   Durbin-Watson:                   2.069\n",
      "Prob(Omnibus):                  0.000   Jarque-Bera (JB):              133.241\n",
      "Skew:                          -1.038   Prob(JB):                     1.17e-29\n",
      "Kurtosis:                       5.721   Cond. No.                         30.1\n",
      "==============================================================================\n",
      "\n",
      "Warnings:\n",
      "[1] Standard Errors assume that the covariance matrix of the errors is correctly specified.\n"
     ]
    }
   ],
   "source": [
    "import statsmodels.api as sm\n",
    "from sklearn import linear_model\n",
    "model=sm.OLS(Y2,X4)\n",
    "results_new4=model.fit()\n",
    "print(results_new4.summary())"
   ]
  },
  {
   "cell_type": "markdown",
   "metadata": {},
   "source": [
    "After 3 rounds of trial the best fit model will be containing he factors\n",
    "Factors_New1=data[['TT3','TD8','TD4','TT5','EM3','EM1']]\n"
   ]
  },
  {
   "cell_type": "markdown",
   "metadata": {},
   "source": [
    "#### Final model(best fit)"
   ]
  },
  {
   "cell_type": "code",
   "execution_count": 142,
   "metadata": {},
   "outputs": [
    {
     "name": "stdout",
     "output_type": "stream",
     "text": [
      "                             OLS Regression Results                            \n",
      "===============================================================================\n",
      "Dep. Variable:     Emploee_Performance   R-squared:                       0.987\n",
      "Model:                             OLS   Adj. R-squared:                  0.987\n",
      "Method:                  Least Squares   F-statistic:                     3495.\n",
      "Date:                 Fri, 19 Jul 2019   Prob (F-statistic):          1.65e-250\n",
      "Time:                         13:59:58   Log-Likelihood:                -171.58\n",
      "No. Observations:                  273   AIC:                             355.2\n",
      "Df Residuals:                      267   BIC:                             376.8\n",
      "Df Model:                            6                                         \n",
      "Covariance Type:             nonrobust                                         \n",
      "==============================================================================\n",
      "                 coef    std err          t      P>|t|      [0.025      0.975]\n",
      "------------------------------------------------------------------------------\n",
      "TT3           -0.0346      0.039     -0.879      0.380      -0.112       0.043\n",
      "TD8            0.2655      0.057      4.691      0.000       0.154       0.377\n",
      "TD4            0.0529      0.029      1.799      0.073      -0.005       0.111\n",
      "TT5            0.1025      0.049      2.085      0.038       0.006       0.199\n",
      "EM3            0.6979      0.056     12.405      0.000       0.587       0.809\n",
      "EM1           -0.1230      0.063     -1.947      0.053      -0.247       0.001\n",
      "==============================================================================\n",
      "Omnibus:                       57.930   Durbin-Watson:                   2.059\n",
      "Prob(Omnibus):                  0.000   Jarque-Bera (JB):              126.500\n",
      "Skew:                          -1.038   Prob(JB):                     3.40e-28\n",
      "Kurtosis:                       5.610   Cond. No.                         29.9\n",
      "==============================================================================\n",
      "\n",
      "Warnings:\n",
      "[1] Standard Errors assume that the covariance matrix of the errors is correctly specified.\n"
     ]
    }
   ],
   "source": [
    "Factors_fin=data[['TT3','TD8','TD4','TT5','EM3','EM1']]\n",
    "X_fin=Factors_fin\n",
    "Y_fin=Dep_Var\n",
    "import statsmodels.api as sm\n",
    "from sklearn import linear_model\n",
    "model=sm.OLS(Y_fin,X_fin)\n",
    "results_Final=model.fit()\n",
    "print(results_Final.summary())"
   ]
  },
  {
   "cell_type": "code",
   "execution_count": null,
   "metadata": {},
   "outputs": [],
   "source": []
  }
 ],
 "metadata": {
  "kernelspec": {
   "display_name": "Python 3",
   "language": "python",
   "name": "python3"
  },
  "language_info": {
   "codemirror_mode": {
    "name": "ipython",
    "version": 3
   },
   "file_extension": ".py",
   "mimetype": "text/x-python",
   "name": "python",
   "nbconvert_exporter": "python",
   "pygments_lexer": "ipython3",
   "version": "3.6.5"
  }
 },
 "nbformat": 4,
 "nbformat_minor": 2
}
